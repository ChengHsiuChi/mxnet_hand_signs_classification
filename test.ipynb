{
 "cells": [
  {
   "cell_type": "markdown",
   "metadata": {},
   "source": [
    "# Resize images"
   ]
  },
  {
   "cell_type": "code",
   "execution_count": 19,
   "metadata": {},
   "outputs": [],
   "source": [
    "import matplotlib.pyplot as plt\n",
    "import numpy as np\n",
    "from PIL import Image\n",
    "import os\n",
    "import pandas as pd"
   ]
  },
  {
   "cell_type": "code",
   "execution_count": 42,
   "metadata": {},
   "outputs": [],
   "source": [
    "classes = [\"class0\",\"class1\",\"class2\",\"class3\",\"class4\",\"class5\"]\n",
    "ori_path = r\"SIGNS\\test\"\n",
    "toward_path = r\"SIGNS\\test_signs2\"\n",
    "\n",
    "for class_i in classes:\n",
    "    class_path = os.path.join(ori_path,class_i)\n",
    "    class_pic_list = os.listdir(class_path)\n",
    "    for i in range(len(class_pic_list)):\n",
    "        img = Image.open(os.path.join(class_path,class_pic_list[i]))\n",
    "        img = img.resize((256,256))\n",
    "        img.save(os.path.join(toward_path,class_i,class_pic_list[i]) , 'JPEG')"
   ]
  },
  {
   "cell_type": "markdown",
   "metadata": {},
   "source": [
    "# Test images"
   ]
  },
  {
   "cell_type": "code",
   "execution_count": 1,
   "metadata": {},
   "outputs": [],
   "source": [
    "from mxnet import nd, gluon, init, autograd, image\n",
    "from mxnet.gluon import nn\n",
    "from mxnet.gluon.data.vision import datasets, transforms\n",
    "from mxnet.gluon import data as gdata\n",
    "from IPython import display\n",
    "import matplotlib.pyplot as plt\n",
    "import time\n",
    "import mxnet\n",
    "from PIL import Image\n",
    "import mxnet as mx"
   ]
  },
  {
   "cell_type": "code",
   "execution_count": 2,
   "metadata": {},
   "outputs": [],
   "source": [
    "import os\n",
    "import csv\n",
    "import random\n",
    "import time\n",
    "import numpy as np\n",
    "import pandas as pd\n",
    "import seaborn as sns\n",
    "%matplotlib inline"
   ]
  },
  {
   "cell_type": "code",
   "execution_count": 50,
   "metadata": {
    "scrolled": true
   },
   "outputs": [],
   "source": [
    "transformer = transforms.Compose([\n",
    "    transforms.ToTensor()\n",
    "])\n",
    "\n",
    "test_data = gluon.data.DataLoader(\n",
    "    gluon.data.vision.ImageFolderDataset(r\"SIGNS\\test_signs2\",flag=1,\n",
    "    transform = lambda data, label: (data.astype(np.float32)/255, label)).transform_first(transformer),\n",
    "    batch_size=10, shuffle=False, num_workers=0)"
   ]
  },
  {
   "cell_type": "code",
   "execution_count": 8,
   "metadata": {},
   "outputs": [],
   "source": [
    "from mxnet.gluon.model_zoo.vision import resnet50_v1\n",
    "pretrained_net = resnet50_v1(pretrained=True)\n",
    "net = resnet50_v1(classes=6)\n",
    "net.load_parameters(\"net_resnet50_v1_80.params\", ctx=mx.cpu())"
   ]
  },
  {
   "cell_type": "code",
   "execution_count": 14,
   "metadata": {},
   "outputs": [],
   "source": [
    "def acc(output, label):\n",
    "    return (output.argmax(axis=1) ==\n",
    "            label.astype('float32')).mean().asscalar()"
   ]
  },
  {
   "cell_type": "code",
   "execution_count": 51,
   "metadata": {},
   "outputs": [
    {
     "name": "stdout",
     "output_type": "stream",
     "text": [
      "Test accuracy is 1.0\n"
     ]
    }
   ],
   "source": [
    "test_acc = 0\n",
    "for data, label in test_data:\n",
    "    test_acc += acc(net(data), label)\n",
    "print(\"Test accuracy is\", test_acc/len(test_data))"
   ]
  },
  {
   "cell_type": "code",
   "execution_count": null,
   "metadata": {},
   "outputs": [],
   "source": []
  }
 ],
 "metadata": {
  "kernelspec": {
   "display_name": "mxnet",
   "language": "python",
   "name": "mxnet"
  },
  "language_info": {
   "codemirror_mode": {
    "name": "ipython",
    "version": 3
   },
   "file_extension": ".py",
   "mimetype": "text/x-python",
   "name": "python",
   "nbconvert_exporter": "python",
   "pygments_lexer": "ipython3",
   "version": "3.5.6"
  }
 },
 "nbformat": 4,
 "nbformat_minor": 4
}
